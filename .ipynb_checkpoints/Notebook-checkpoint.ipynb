{
 "cells": [
  {
   "cell_type": "code",
   "execution_count": 10,
   "metadata": {},
   "outputs": [
    {
     "name": "stdout",
     "output_type": "stream",
     "text": [
      "/usr/bin/python3\n"
     ]
    }
   ],
   "source": [
    "# import sys\n",
    "# !{sys.executable} -m pip install numpy matplotlib\n",
    "import numpy as np\n",
    "import matplotlib.pyplot as plt\n",
    "import csv\n",
    "import sys\n",
    "print(sys.executable)"
   ]
  },
  {
   "cell_type": "code",
   "execution_count": 11,
   "metadata": {},
   "outputs": [
    {
     "name": "stdout",
     "output_type": "stream",
     "text": [
      "{'year': 0, 'imdb': 1, 'title': 2, 'test': 3, 'clean_test': 4, 'binary': 5, 'budget': 6, 'domgross': 7, 'intgross': 8, 'code': 9, 'budget_2013$': 10, 'domgross_2013$': 11, 'intgross_2013$': 12, 'period code': 13, 'decade code': 14}\n"
     ]
    }
   ],
   "source": [
    "with open('movies.csv', 'r') as csvfile:\n",
    "    moviereader = [x for x in csv.reader(csvfile, delimiter=',')]\n",
    "    \n",
    "    header_dict = dict()\n",
    "    \n",
    "    for i in range(len(moviereader[0])):\n",
    "        header_dict[moviereader[0][i]] = i\n",
    "        \n",
    "    print(header_dict)\n",
    "    \n",
    "#     for row in moviereader:\n",
    "#         print(row)"
   ]
  },
  {
   "cell_type": "code",
   "execution_count": 12,
   "metadata": {},
   "outputs": [],
   "source": [
    "# print(\"test\")\n",
    "\n",
    "# plt.plot([1,2,3], [1,2,3], 'o')\n",
    "# plt.show()"
   ]
  },
  {
   "cell_type": "code",
   "execution_count": 13,
   "metadata": {},
   "outputs": [],
   "source": [
    "# #Budget vs international gross\n",
    "\n",
    "# x = [x[6] for x in moviereader][::10]\n",
    "# y = [x[8] for x in moviereader][::10]\n",
    "\n",
    "# plt.plot(x, y, 'o')\n",
    "# plt.show()"
   ]
  },
  {
   "cell_type": "code",
   "execution_count": 14,
   "metadata": {},
   "outputs": [],
   "source": [
    "# #Budget vs international gross\n",
    "\n",
    "# x = [x[0] for x in moviereader][::10]\n",
    "# y = [x[8] for x in moviereader][::10]\n",
    "\n",
    "# plt.plot(x, y, 'o')\n",
    "# plt.show()"
   ]
  },
  {
   "cell_type": "code",
   "execution_count": 67,
   "metadata": {},
   "outputs": [
    {
     "name": "stdout",
     "output_type": "stream",
     "text": [
      "[[\"1968.0\", {\"total_count\": 1, \"contained_years\": [\"1970\"], \"nowomen\": 0.0, \"nowomen-disagree\": 0.0, \"men-disagree\": 0.0, \"dubious\": 0.0, \"men\": 0.0, \"dubious-disagree\": 0.0, \"notalk\": 0.0, \"notalk-disagree\": 0.0, \"ok\": 1.0, \"ok-disagree\": 0.0}], [\"1971.0\", {\"total_count\": 13, \"contained_years\": [\"1973\", \"1972\", \"1971\"], \"nowomen\": 0.0, \"nowomen-disagree\": 0.0, \"men-disagree\": 0.07692307692307693, \"dubious\": 0.0, \"men\": 0.07692307692307693, \"dubious-disagree\": 0.0, \"notalk\": 0.6153846153846154, \"notalk-disagree\": 0.07692307692307693, \"ok\": 0.15384615384615385, \"ok-disagree\": 0.0}], [\"1974.0\", {\"total_count\": 20, \"contained_years\": [\"1976\", \"1975\", \"1974\"], \"nowomen\": 0.0, \"nowomen-disagree\": 0.0, \"men-disagree\": 0.0, \"dubious\": 0.0, \"men\": 0.2, \"dubious-disagree\": 0.05, \"notalk\": 0.5, \"notalk-disagree\": 0.0, \"ok\": 0.25, \"ok-disagree\": 0.0}], [\"1977.0\", {\"total_count\": 20, \"contained_years\": [\"1979\", \"1978\", \"1977\"], \"nowomen\": 0.15, \"nowomen-disagree\": 0.05, \"men-disagree\": 0.0, \"dubious\": 0.05, \"men\": 0.05, \"dubious-disagree\": 0.0, \"notalk\": 0.4, \"notalk-disagree\": 0.0, \"ok\": 0.3, \"ok-disagree\": 0.0}], [\"1980.0\", {\"total_count\": 37, \"contained_years\": [\"1982\", \"1981\", \"1980\"], \"nowomen\": 0.08108108108108109, \"nowomen-disagree\": 0.10810810810810811, \"men-disagree\": 0.05405405405405406, \"dubious\": 0.13513513513513514, \"men\": 0.08108108108108109, \"dubious-disagree\": 0.02702702702702703, \"notalk\": 0.24324324324324326, \"notalk-disagree\": 0.05405405405405406, \"ok\": 0.21621621621621623, \"ok-disagree\": 0.0}], [\"1983.0\", {\"total_count\": 31, \"contained_years\": [\"1985\", \"1984\", \"1983\"], \"nowomen\": 0.12903225806451613, \"nowomen-disagree\": 0.03225806451612903, \"men-disagree\": 0.06451612903225806, \"dubious\": 0.0967741935483871, \"men\": 0.12903225806451613, \"dubious-disagree\": 0.03225806451612903, \"notalk\": 0.12903225806451613, \"notalk-disagree\": 0.0967741935483871, \"ok\": 0.25806451612903225, \"ok-disagree\": 0.03225806451612903}], [\"1986.0\", {\"total_count\": 43, \"contained_years\": [\"1988\", \"1987\", \"1986\"], \"nowomen\": 0.06976744186046512, \"nowomen-disagree\": 0.023255813953488372, \"men-disagree\": 0.023255813953488372, \"dubious\": 0.09302325581395349, \"men\": 0.09302325581395349, \"dubious-disagree\": 0.046511627906976744, \"notalk\": 0.2558139534883721, \"notalk-disagree\": 0.046511627906976744, \"ok\": 0.27906976744186046, \"ok-disagree\": 0.06976744186046512}], [\"1989.0\", {\"total_count\": 42, \"contained_years\": [\"1991\", \"1990\", \"1989\"], \"nowomen\": 0.023809523809523808, \"nowomen-disagree\": 0.023809523809523808, \"men-disagree\": 0.11904761904761904, \"dubious\": 0.047619047619047616, \"men\": 0.09523809523809523, \"dubious-disagree\": 0.023809523809523808, \"notalk\": 0.2857142857142857, \"notalk-disagree\": 0.0, \"ok\": 0.30952380952380953, \"ok-disagree\": 0.07142857142857142}], [\"1992.0\", {\"total_count\": 62, \"contained_years\": [\"1994\", \"1993\", \"1992\"], \"nowomen\": 0.12903225806451613, \"nowomen-disagree\": 0.06451612903225806, \"men-disagree\": 0.03225806451612903, \"dubious\": 0.03225806451612903, \"men\": 0.08064516129032258, \"dubious-disagree\": 0.0, \"notalk\": 0.24193548387096775, \"notalk-disagree\": 0.08064516129032258, \"ok\": 0.2903225806451613, \"ok-disagree\": 0.04838709677419355}], [\"1995.0\", {\"total_count\": 129, \"contained_years\": [\"1997\", \"1996\", \"1995\"], \"nowomen\": 0.023255813953488372, \"nowomen-disagree\": 0.015503875968992248, \"men-disagree\": 0.031007751937984496, \"dubious\": 0.05426356589147287, \"men\": 0.05426356589147287, \"dubious-disagree\": 0.007751937984496124, \"notalk\": 0.21705426356589147, \"notalk-disagree\": 0.07751937984496124, \"ok\": 0.4728682170542636, \"ok-disagree\": 0.046511627906976744}], [\"1998.0\", {\"total_count\": 181, \"contained_years\": [\"2000\", \"1999\", \"1998\"], \"nowomen\": 0.03867403314917127, \"nowomen-disagree\": 0.03314917127071823, \"men-disagree\": 0.022099447513812154, \"dubious\": 0.03867403314917127, \"men\": 0.09392265193370165, \"dubious-disagree\": 0.03867403314917127, \"notalk\": 0.19889502762430938, \"notalk-disagree\": 0.11602209944751381, \"ok\": 0.39779005524861877, \"ok-disagree\": 0.022099447513812154}], [\"2001.0\", {\"total_count\": 208, \"contained_years\": [\"2003\", \"2002\", \"2001\"], \"nowomen\": 0.057692307692307696, \"nowomen-disagree\": 0.02403846153846154, \"men-disagree\": 0.03365384615384615, \"dubious\": 0.038461538461538464, \"men\": 0.052884615384615384, \"dubious-disagree\": 0.019230769230769232, \"notalk\": 0.22596153846153846, \"notalk-disagree\": 0.04807692307692308, \"ok\": 0.44711538461538464, \"ok-disagree\": 0.052884615384615384}], [\"2004.0\", {\"total_count\": 271, \"contained_years\": [\"2006\", \"2005\", \"2004\"], \"nowomen\": 0.04059040590405904, \"nowomen-disagree\": 0.025830258302583026, \"men-disagree\": 0.033210332103321034, \"dubious\": 0.05166051660516605, \"men\": 0.06642066420664207, \"dubious-disagree\": 0.01845018450184502, \"notalk\": 0.19557195571955718, \"notalk-disagree\": 0.04428044280442804, \"ok\": 0.4833948339483395, \"ok-disagree\": 0.04059040590405904}], [\"2007.0\", {\"total_count\": 298, \"contained_years\": [\"2009\", \"2008\", \"2007\"], \"nowomen\": 0.050335570469798654, \"nowomen-disagree\": 0.02348993288590604, \"men-disagree\": 0.04697986577181208, \"dubious\": 0.040268456375838924, \"men\": 0.06375838926174497, \"dubious-disagree\": 0.03691275167785235, \"notalk\": 0.19463087248322147, \"notalk-disagree\": 0.09395973154362416, \"ok\": 0.39932885906040266, \"ok-disagree\": 0.050335570469798654}], [\"2010.0\", {\"total_count\": 339, \"contained_years\": [\"2012\", \"2011\", \"2010\"], \"nowomen\": 0.0471976401179941, \"nowomen-disagree\": 0.029498525073746312, \"men-disagree\": 0.032448377581120944, \"dubious\": 0.038348082595870206, \"men\": 0.05604719764011799, \"dubious-disagree\": 0.061946902654867256, \"notalk\": 0.1887905604719764, \"notalk-disagree\": 0.10029498525073746, \"ok\": 0.3392330383480826, \"ok-disagree\": 0.10619469026548672}], [\"2013.0\", {\"total_count\": 99, \"contained_years\": [\"2013\"], \"nowomen\": 0.020202020202020204, \"nowomen-disagree\": 0.04040404040404041, \"men-disagree\": 0.0707070707070707, \"dubious\": 0.030303030303030304, \"men\": 0.08080808080808081, \"dubious-disagree\": 0.06060606060606061, \"notalk\": 0.16161616161616163, \"notalk-disagree\": 0.0707070707070707, \"ok\": 0.32323232323232326, \"ok-disagree\": 0.1414141414141414}]]\n"
     ]
    }
   ],
   "source": [
    "import math\n",
    "yeardict = {}\n",
    "\n",
    "group_size = 2.0\n",
    "\n",
    "for movie in moviereader[1:]:\n",
    "    key = str(math.floor(int(movie[header_dict[\"year\"]]) / group_size) * group_size)\n",
    "    if key not in yeardict:\n",
    "        yeardict[key] = {\n",
    "                \"total_count\": 0,\n",
    "                \"contained_years\": [],\n",
    "                \"nowomen\": 0,\n",
    "                \"nowomen-disagree\": 0,\n",
    "                \"men-disagree\": 0,\n",
    "                \"dubious\": 0,\n",
    "                \"men\": 0,\n",
    "                \"dubious-disagree\": 0,\n",
    "                \"notalk\": 0,\n",
    "                \"notalk-disagree\": 0,\n",
    "                \"ok\": 0,\n",
    "                \"ok-disagree\": 0\n",
    "            }\n",
    "    failed_test = movie[header_dict[\"test\"]]\n",
    "    yeardict[key][\"total_count\"] += 1\n",
    "    yeardict[key][failed_test] += 1\n",
    "    if movie[0] not in yeardict[key][\"contained_years\"]:\n",
    "        yeardict[key][\"contained_years\"].append(movie[0])\n",
    "    \n",
    "# print(yeardict)\n",
    "\n",
    "for year in yeardict:\n",
    "#     failed_sum = sum([yeardict[year][test] for test in yeardict[year]])\n",
    "    for test in yeardict[year]:\n",
    "        if test is not \"total_count\" and test is not \"contained_years\":\n",
    "            yeardict[year][test] /= yeardict[year][\"total_count\"]\n",
    "        \n",
    "year_list = [[year, yeardict[year]] for year in yeardict]\n",
    "year_list.sort(key=lambda x: x[0])\n",
    "\n",
    "import json        \n",
    "print(json.dumps(year_list))"
   ]
  },
  {
   "cell_type": "code",
   "execution_count": 60,
   "metadata": {},
   "outputs": [
    {
     "name": "stdout",
     "output_type": "stream",
     "text": [
      "[[1970.0, {\"total_count\": 21, \"contained_years\": [\"1974\", \"1973\", \"1972\", \"1971\", \"1970\"], \"nowomen\": 0.0, \"nowomen-disagree\": 0.0, \"men-disagree\": 0.047619047619047616, \"dubious\": 0.0, \"men\": 0.09523809523809523, \"dubious-disagree\": 0.0, \"notalk\": 0.5714285714285714, \"notalk-disagree\": 0.047619047619047616, \"ok\": 0.23809523809523808, \"ok-disagree\": 0.0}], [1975.0, {\"total_count\": 33, \"contained_years\": [\"1979\", \"1978\", \"1977\", \"1976\", \"1975\"], \"nowomen\": 0.09090909090909091, \"nowomen-disagree\": 0.030303030303030304, \"men-disagree\": 0.0, \"dubious\": 0.030303030303030304, \"men\": 0.12121212121212122, \"dubious-disagree\": 0.030303030303030304, \"notalk\": 0.42424242424242425, \"notalk-disagree\": 0.0, \"ok\": 0.2727272727272727, \"ok-disagree\": 0.0}], [1980.0, {\"total_count\": 58, \"contained_years\": [\"1984\", \"1983\", \"1982\", \"1981\", \"1980\"], \"nowomen\": 0.08620689655172414, \"nowomen-disagree\": 0.08620689655172414, \"men-disagree\": 0.06896551724137931, \"dubious\": 0.1206896551724138, \"men\": 0.10344827586206896, \"dubious-disagree\": 0.034482758620689655, \"notalk\": 0.20689655172413793, \"notalk-disagree\": 0.06896551724137931, \"ok\": 0.20689655172413793, \"ok-disagree\": 0.017241379310344827}], [1985.0, {\"total_count\": 67, \"contained_years\": [\"1989\", \"1988\", \"1987\", \"1986\", \"1985\"], \"nowomen\": 0.07462686567164178, \"nowomen-disagree\": 0.029850746268656716, \"men-disagree\": 0.029850746268656716, \"dubious\": 0.07462686567164178, \"men\": 0.1044776119402985, \"dubious-disagree\": 0.029850746268656716, \"notalk\": 0.26865671641791045, \"notalk-disagree\": 0.04477611940298507, \"ok\": 0.2835820895522388, \"ok-disagree\": 0.05970149253731343}], [1990.0, {\"total_count\": 90, \"contained_years\": [\"1994\", \"1993\", \"1992\", \"1991\", \"1990\"], \"nowomen\": 0.1, \"nowomen-disagree\": 0.044444444444444446, \"men-disagree\": 0.06666666666666667, \"dubious\": 0.044444444444444446, \"men\": 0.07777777777777778, \"dubious-disagree\": 0.011111111111111112, \"notalk\": 0.23333333333333334, \"notalk-disagree\": 0.05555555555555555, \"ok\": 0.3111111111111111, \"ok-disagree\": 0.05555555555555555}], [1995.0, {\"total_count\": 247, \"contained_years\": [\"1999\", \"1998\", \"1997\", \"1996\", \"1995\"], \"nowomen\": 0.024291497975708502, \"nowomen-disagree\": 0.020242914979757085, \"men-disagree\": 0.02834008097165992, \"dubious\": 0.048582995951417005, \"men\": 0.06882591093117409, \"dubious-disagree\": 0.02834008097165992, \"notalk\": 0.2145748987854251, \"notalk-disagree\": 0.10526315789473684, \"ok\": 0.4251012145748988, \"ok-disagree\": 0.03643724696356275}], [2000.0, {\"total_count\": 352, \"contained_years\": [\"2004\", \"2003\", \"2002\", \"2001\", \"2000\"], \"nowomen\": 0.05397727272727273, \"nowomen-disagree\": 0.028409090909090908, \"men-disagree\": 0.03977272727272727, \"dubious\": 0.036931818181818184, \"men\": 0.0625, \"dubious-disagree\": 0.017045454545454544, \"notalk\": 0.20170454545454544, \"notalk-disagree\": 0.05397727272727273, \"ok\": 0.45454545454545453, \"ok-disagree\": 0.05113636363636364}], [2005.0, {\"total_count\": 488, \"contained_years\": [\"2009\", \"2008\", \"2007\", \"2006\", \"2005\"], \"nowomen\": 0.0471311475409836, \"nowomen-disagree\": 0.02459016393442623, \"men-disagree\": 0.03483606557377049, \"dubious\": 0.0471311475409836, \"men\": 0.06762295081967214, \"dubious-disagree\": 0.030737704918032786, \"notalk\": 0.20081967213114754, \"notalk-disagree\": 0.07377049180327869, \"ok\": 0.4323770491803279, \"ok-disagree\": 0.040983606557377046}], [2010.0, {\"total_count\": 438, \"contained_years\": [\"2013\", \"2012\", \"2011\", \"2010\"], \"nowomen\": 0.0410958904109589, \"nowomen-disagree\": 0.0319634703196347, \"men-disagree\": 0.0410958904109589, \"dubious\": 0.0365296803652968, \"men\": 0.06164383561643835, \"dubious-disagree\": 0.06164383561643835, \"notalk\": 0.182648401826484, \"notalk-disagree\": 0.09360730593607305, \"ok\": 0.3356164383561644, \"ok-disagree\": 0.1141552511415525}]]\n"
     ]
    }
   ],
   "source": []
  },
  {
   "cell_type": "code",
   "execution_count": 20,
   "metadata": {},
   "outputs": [
    {
     "name": "stdout",
     "output_type": "stream",
     "text": [
      "{'notalk', 'nowomen-disagree', 'men', 'notalk-disagree', 'men-disagree', 'ok-disagree', 'dubious', 'ok', 'nowomen', 'dubious-disagree'}\n"
     ]
    }
   ],
   "source": [
    "print(set([x[3] for x in moviereader[1:]]))\n"
   ]
  }
 ],
 "metadata": {
  "kernelspec": {
   "display_name": "Python 3",
   "language": "python",
   "name": "python3"
  },
  "language_info": {
   "codemirror_mode": {
    "name": "ipython",
    "version": 3
   },
   "file_extension": ".py",
   "mimetype": "text/x-python",
   "name": "python",
   "nbconvert_exporter": "python",
   "pygments_lexer": "ipython3",
   "version": "3.6.7"
  }
 },
 "nbformat": 4,
 "nbformat_minor": 2
}
