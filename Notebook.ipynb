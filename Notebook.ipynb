{
 "cells": [
  {
   "cell_type": "code",
   "execution_count": 10,
   "metadata": {},
   "outputs": [
    {
     "name": "stdout",
     "output_type": "stream",
     "text": [
      "/usr/bin/python3\n"
     ]
    }
   ],
   "source": [
    "# import sys\n",
    "# !{sys.executable} -m pip install numpy matplotlib\n",
    "import numpy as np\n",
    "import matplotlib.pyplot as plt\n",
    "import csv\n",
    "import sys\n",
    "print(sys.executable)"
   ]
  },
  {
   "cell_type": "code",
   "execution_count": 11,
   "metadata": {},
   "outputs": [
    {
     "name": "stdout",
     "output_type": "stream",
     "text": [
      "{'year': 0, 'imdb': 1, 'title': 2, 'test': 3, 'clean_test': 4, 'binary': 5, 'budget': 6, 'domgross': 7, 'intgross': 8, 'code': 9, 'budget_2013$': 10, 'domgross_2013$': 11, 'intgross_2013$': 12, 'period code': 13, 'decade code': 14}\n"
     ]
    }
   ],
   "source": [
    "with open('movies.csv', 'r') as csvfile:\n",
    "    moviereader = [x for x in csv.reader(csvfile, delimiter=',')]\n",
    "    \n",
    "    header_dict = dict()\n",
    "    \n",
    "    for i in range(len(moviereader[0])):\n",
    "        header_dict[moviereader[0][i]] = i\n",
    "        \n",
    "    print(header_dict)\n",
    "    \n",
    "#     for row in moviereader:\n",
    "#         print(row)"
   ]
  },
  {
   "cell_type": "code",
   "execution_count": 12,
   "metadata": {},
   "outputs": [],
   "source": [
    "# print(\"test\")\n",
    "\n",
    "# plt.plot([1,2,3], [1,2,3], 'o')\n",
    "# plt.show()"
   ]
  },
  {
   "cell_type": "code",
   "execution_count": 13,
   "metadata": {},
   "outputs": [],
   "source": [
    "# #Budget vs international gross\n",
    "\n",
    "# x = [x[6] for x in moviereader][::10]\n",
    "# y = [x[8] for x in moviereader][::10]\n",
    "\n",
    "# plt.plot(x, y, 'o')\n",
    "# plt.show()"
   ]
  },
  {
   "cell_type": "code",
   "execution_count": 14,
   "metadata": {},
   "outputs": [],
   "source": [
    "# #Budget vs international gross\n",
    "\n",
    "# x = [x[0] for x in moviereader][::10]\n",
    "# y = [x[8] for x in moviereader][::10]\n",
    "\n",
    "# plt.plot(x, y, 'o')\n",
    "# plt.show()"
   ]
  },
  {
   "cell_type": "code",
   "execution_count": 70,
   "metadata": {},
   "outputs": [
    {
     "name": "stdout",
     "output_type": "stream",
     "text": [
      "[[\"1970.0\", {\"total_count\": 6, \"contained_years\": [\"1971\", \"1970\"], \"nowomen\": 0.0, \"nowomen-disagree\": 0.0, \"men-disagree\": 0.16666666666666666, \"dubious\": 0.0, \"men\": 0.0, \"dubious-disagree\": 0.0, \"notalk\": 0.6666666666666666, \"notalk-disagree\": 0.0, \"ok\": 0.16666666666666666, \"ok-disagree\": 0.0}], [\"1972.0\", {\"total_count\": 8, \"contained_years\": [\"1973\", \"1972\"], \"nowomen\": 0.0, \"nowomen-disagree\": 0.0, \"men-disagree\": 0.0, \"dubious\": 0.0, \"men\": 0.125, \"dubious-disagree\": 0.0, \"notalk\": 0.5, \"notalk-disagree\": 0.125, \"ok\": 0.25, \"ok-disagree\": 0.0}], [\"1974.0\", {\"total_count\": 12, \"contained_years\": [\"1975\", \"1974\"], \"nowomen\": 0.0, \"nowomen-disagree\": 0.0, \"men-disagree\": 0.0, \"dubious\": 0.0, \"men\": 0.25, \"dubious-disagree\": 0.08333333333333333, \"notalk\": 0.5, \"notalk-disagree\": 0.0, \"ok\": 0.16666666666666666, \"ok-disagree\": 0.0}], [\"1976.0\", {\"total_count\": 15, \"contained_years\": [\"1977\", \"1976\"], \"nowomen\": 0.06666666666666667, \"nowomen-disagree\": 0.0, \"men-disagree\": 0.0, \"dubious\": 0.0, \"men\": 0.06666666666666667, \"dubious-disagree\": 0.0, \"notalk\": 0.5333333333333333, \"notalk-disagree\": 0.0, \"ok\": 0.3333333333333333, \"ok-disagree\": 0.0}], [\"1978.0\", {\"total_count\": 13, \"contained_years\": [\"1979\", \"1978\"], \"nowomen\": 0.15384615384615385, \"nowomen-disagree\": 0.07692307692307693, \"men-disagree\": 0.0, \"dubious\": 0.07692307692307693, \"men\": 0.07692307692307693, \"dubious-disagree\": 0.0, \"notalk\": 0.3076923076923077, \"notalk-disagree\": 0.0, \"ok\": 0.3076923076923077, \"ok-disagree\": 0.0}], [\"1980.0\", {\"total_count\": 23, \"contained_years\": [\"1981\", \"1980\"], \"nowomen\": 0.08695652173913043, \"nowomen-disagree\": 0.13043478260869565, \"men-disagree\": 0.08695652173913043, \"dubious\": 0.13043478260869565, \"men\": 0.043478260869565216, \"dubious-disagree\": 0.0, \"notalk\": 0.2608695652173913, \"notalk-disagree\": 0.043478260869565216, \"ok\": 0.21739130434782608, \"ok-disagree\": 0.0}], [\"1982.0\", {\"total_count\": 19, \"contained_years\": [\"1983\", \"1982\"], \"nowomen\": 0.05263157894736842, \"nowomen-disagree\": 0.10526315789473684, \"men-disagree\": 0.0, \"dubious\": 0.10526315789473684, \"men\": 0.15789473684210525, \"dubious-disagree\": 0.05263157894736842, \"notalk\": 0.21052631578947367, \"notalk-disagree\": 0.05263157894736842, \"ok\": 0.2631578947368421, \"ok-disagree\": 0.0}], [\"1984.0\", {\"total_count\": 26, \"contained_years\": [\"1985\", \"1984\"], \"nowomen\": 0.15384615384615385, \"nowomen-disagree\": 0.0, \"men-disagree\": 0.07692307692307693, \"dubious\": 0.11538461538461539, \"men\": 0.11538461538461539, \"dubious-disagree\": 0.038461538461538464, \"notalk\": 0.11538461538461539, \"notalk-disagree\": 0.11538461538461539, \"ok\": 0.23076923076923078, \"ok-disagree\": 0.038461538461538464}], [\"1986.0\", {\"total_count\": 24, \"contained_years\": [\"1987\", \"1986\"], \"nowomen\": 0.125, \"nowomen-disagree\": 0.0, \"men-disagree\": 0.041666666666666664, \"dubious\": 0.16666666666666666, \"men\": 0.041666666666666664, \"dubious-disagree\": 0.08333333333333333, \"notalk\": 0.20833333333333334, \"notalk-disagree\": 0.08333333333333333, \"ok\": 0.16666666666666666, \"ok-disagree\": 0.08333333333333333}], [\"1988.0\", {\"total_count\": 33, \"contained_years\": [\"1989\", \"1988\"], \"nowomen\": 0.0, \"nowomen-disagree\": 0.06060606060606061, \"men-disagree\": 0.030303030303030304, \"dubious\": 0.0, \"men\": 0.15151515151515152, \"dubious-disagree\": 0.0, \"notalk\": 0.36363636363636365, \"notalk-disagree\": 0.0, \"ok\": 0.3333333333333333, \"ok-disagree\": 0.06060606060606061}], [\"1990.0\", {\"total_count\": 28, \"contained_years\": [\"1991\", \"1990\"], \"nowomen\": 0.03571428571428571, \"nowomen-disagree\": 0.0, \"men-disagree\": 0.14285714285714285, \"dubious\": 0.07142857142857142, \"men\": 0.07142857142857142, \"dubious-disagree\": 0.03571428571428571, \"notalk\": 0.21428571428571427, \"notalk-disagree\": 0.0, \"ok\": 0.35714285714285715, \"ok-disagree\": 0.07142857142857142}], [\"1992.0\", {\"total_count\": 36, \"contained_years\": [\"1993\", \"1992\"], \"nowomen\": 0.16666666666666666, \"nowomen-disagree\": 0.08333333333333333, \"men-disagree\": 0.05555555555555555, \"dubious\": 0.05555555555555555, \"men\": 0.05555555555555555, \"dubious-disagree\": 0.0, \"notalk\": 0.19444444444444445, \"notalk-disagree\": 0.05555555555555555, \"ok\": 0.2777777777777778, \"ok-disagree\": 0.05555555555555555}], [\"1994.0\", {\"total_count\": 62, \"contained_years\": [\"1995\", \"1994\"], \"nowomen\": 0.06451612903225806, \"nowomen-disagree\": 0.03225806451612903, \"men-disagree\": 0.03225806451612903, \"dubious\": 0.03225806451612903, \"men\": 0.04838709677419355, \"dubious-disagree\": 0.0, \"notalk\": 0.25806451612903225, \"notalk-disagree\": 0.0967741935483871, \"ok\": 0.3709677419354839, \"ok-disagree\": 0.06451612903225806}], [\"1996.0\", {\"total_count\": 93, \"contained_years\": [\"1997\", \"1996\"], \"nowomen\": 0.010752688172043012, \"nowomen-disagree\": 0.010752688172043012, \"men-disagree\": 0.021505376344086023, \"dubious\": 0.053763440860215055, \"men\": 0.07526881720430108, \"dubious-disagree\": 0.010752688172043012, \"notalk\": 0.21505376344086022, \"notalk-disagree\": 0.07526881720430108, \"ok\": 0.4946236559139785, \"ok-disagree\": 0.03225806451612903}], [\"1998.0\", {\"total_count\": 118, \"contained_years\": [\"1999\", \"1998\"], \"nowomen\": 0.025423728813559324, \"nowomen-disagree\": 0.025423728813559324, \"men-disagree\": 0.025423728813559324, \"dubious\": 0.0423728813559322, \"men\": 0.0847457627118644, \"dubious-disagree\": 0.05084745762711865, \"notalk\": 0.211864406779661, \"notalk-disagree\": 0.13559322033898305, \"ok\": 0.3728813559322034, \"ok-disagree\": 0.025423728813559324}], [\"2000.0\", {\"total_count\": 127, \"contained_years\": [\"2001\", \"2000\"], \"nowomen\": 0.06299212598425197, \"nowomen-disagree\": 0.031496062992125984, \"men-disagree\": 0.023622047244094488, \"dubious\": 0.031496062992125984, \"men\": 0.07874015748031496, \"dubious-disagree\": 0.023622047244094488, \"notalk\": 0.1889763779527559, \"notalk-disagree\": 0.07086614173228346, \"ok\": 0.4645669291338583, \"ok-disagree\": 0.023622047244094488}], [\"2002.0\", {\"total_count\": 144, \"contained_years\": [\"2003\", \"2002\"], \"nowomen\": 0.05555555555555555, \"nowomen-disagree\": 0.027777777777777776, \"men-disagree\": 0.034722222222222224, \"dubious\": 0.041666666666666664, \"men\": 0.05555555555555555, \"dubious-disagree\": 0.013888888888888888, \"notalk\": 0.2361111111111111, \"notalk-disagree\": 0.041666666666666664, \"ok\": 0.4305555555555556, \"ok-disagree\": 0.0625}], [\"2004.0\", {\"total_count\": 181, \"contained_years\": [\"2005\", \"2004\"], \"nowomen\": 0.04419889502762431, \"nowomen-disagree\": 0.016574585635359115, \"men-disagree\": 0.03867403314917127, \"dubious\": 0.04419889502762431, \"men\": 0.0718232044198895, \"dubious-disagree\": 0.011049723756906077, \"notalk\": 0.17679558011049723, \"notalk-disagree\": 0.049723756906077346, \"ok\": 0.4972375690607735, \"ok-disagree\": 0.049723756906077346}], [\"2006.0\", {\"total_count\": 163, \"contained_years\": [\"2007\", \"2006\"], \"nowomen\": 0.03680981595092025, \"nowomen-disagree\": 0.04294478527607362, \"men-disagree\": 0.018404907975460124, \"dubious\": 0.06134969325153374, \"men\": 0.05521472392638037, \"dubious-disagree\": 0.024539877300613498, \"notalk\": 0.1901840490797546, \"notalk-disagree\": 0.05521472392638037, \"ok\": 0.4601226993865031, \"ok-disagree\": 0.05521472392638037}], [\"2008.0\", {\"total_count\": 225, \"contained_years\": [\"2009\", \"2008\"], \"nowomen\": 0.05333333333333334, \"nowomen-disagree\": 0.017777777777777778, \"men-disagree\": 0.057777777777777775, \"dubious\": 0.035555555555555556, \"men\": 0.06666666666666667, \"dubious-disagree\": 0.044444444444444446, \"notalk\": 0.21333333333333335, \"notalk-disagree\": 0.09777777777777778, \"ok\": 0.37777777777777777, \"ok-disagree\": 0.035555555555555556}], [\"2010.0\", {\"total_count\": 253, \"contained_years\": [\"2011\", \"2010\"], \"nowomen\": 0.05138339920948617, \"nowomen-disagree\": 0.02766798418972332, \"men-disagree\": 0.023715415019762844, \"dubious\": 0.04743083003952569, \"men\": 0.05138339920948617, \"dubious-disagree\": 0.05533596837944664, \"notalk\": 0.20948616600790515, \"notalk-disagree\": 0.08300395256916997, \"ok\": 0.35177865612648224, \"ok-disagree\": 0.09881422924901186}], [\"2012.0\", {\"total_count\": 185, \"contained_years\": [\"2013\", \"2012\"], \"nowomen\": 0.02702702702702703, \"nowomen-disagree\": 0.03783783783783784, \"men-disagree\": 0.06486486486486487, \"dubious\": 0.021621621621621623, \"men\": 0.07567567567567568, \"dubious-disagree\": 0.07027027027027027, \"notalk\": 0.14594594594594595, \"notalk-disagree\": 0.10810810810810811, \"ok\": 0.31351351351351353, \"ok-disagree\": 0.13513513513513514}]]\n"
     ]
    }
   ],
   "source": [
    "import math\n",
    "yeardict = {}\n",
    "\n",
    "group_size = 2.0\n",
    "\n",
    "for movie in moviereader[1:]:\n",
    "    key = str(math.floor(int(movie[header_dict[\"year\"]]) / group_size) * group_size)\n",
    "    if key not in yeardict:\n",
    "        yeardict[key] = {\n",
    "                \"total_count\": 0,\n",
    "                \"contained_years\": [],\n",
    "                \"nowomen\": 0,\n",
    "                \"nowomen-disagree\": 0,\n",
    "                \"men-disagree\": 0,\n",
    "                \"dubious\": 0,\n",
    "                \"men\": 0,\n",
    "                \"dubious-disagree\": 0,\n",
    "                \"notalk\": 0,\n",
    "                \"notalk-disagree\": 0,\n",
    "                \"ok\": 0,\n",
    "                \"ok-disagree\": 0\n",
    "            }\n",
    "    failed_test = movie[header_dict[\"test\"]]\n",
    "    yeardict[key][\"total_count\"] += 1\n",
    "    yeardict[key][failed_test] += 1\n",
    "    if movie[0] not in yeardict[key][\"contained_years\"]:\n",
    "        yeardict[key][\"contained_years\"].append(movie[0])\n",
    "    \n",
    "# print(yeardict)\n",
    "\n",
    "for year in yeardict:\n",
    "#     failed_sum = sum([yeardict[year][test] for test in yeardict[year]])\n",
    "    for test in yeardict[year]:\n",
    "        if test is not \"total_count\" and test is not \"contained_years\":\n",
    "            yeardict[year][test] /= yeardict[year][\"total_count\"]\n",
    "        \n",
    "year_list = [[year, yeardict[year]] for year in yeardict]\n",
    "year_list.sort(key=lambda x: x[0])\n",
    "\n",
    "import json        \n",
    "print(json.dumps(year_list))"
   ]
  },
  {
   "cell_type": "code",
   "execution_count": 60,
   "metadata": {},
   "outputs": [
    {
     "name": "stdout",
     "output_type": "stream",
     "text": [
      "[[1970.0, {\"total_count\": 21, \"contained_years\": [\"1974\", \"1973\", \"1972\", \"1971\", \"1970\"], \"nowomen\": 0.0, \"nowomen-disagree\": 0.0, \"men-disagree\": 0.047619047619047616, \"dubious\": 0.0, \"men\": 0.09523809523809523, \"dubious-disagree\": 0.0, \"notalk\": 0.5714285714285714, \"notalk-disagree\": 0.047619047619047616, \"ok\": 0.23809523809523808, \"ok-disagree\": 0.0}], [1975.0, {\"total_count\": 33, \"contained_years\": [\"1979\", \"1978\", \"1977\", \"1976\", \"1975\"], \"nowomen\": 0.09090909090909091, \"nowomen-disagree\": 0.030303030303030304, \"men-disagree\": 0.0, \"dubious\": 0.030303030303030304, \"men\": 0.12121212121212122, \"dubious-disagree\": 0.030303030303030304, \"notalk\": 0.42424242424242425, \"notalk-disagree\": 0.0, \"ok\": 0.2727272727272727, \"ok-disagree\": 0.0}], [1980.0, {\"total_count\": 58, \"contained_years\": [\"1984\", \"1983\", \"1982\", \"1981\", \"1980\"], \"nowomen\": 0.08620689655172414, \"nowomen-disagree\": 0.08620689655172414, \"men-disagree\": 0.06896551724137931, \"dubious\": 0.1206896551724138, \"men\": 0.10344827586206896, \"dubious-disagree\": 0.034482758620689655, \"notalk\": 0.20689655172413793, \"notalk-disagree\": 0.06896551724137931, \"ok\": 0.20689655172413793, \"ok-disagree\": 0.017241379310344827}], [1985.0, {\"total_count\": 67, \"contained_years\": [\"1989\", \"1988\", \"1987\", \"1986\", \"1985\"], \"nowomen\": 0.07462686567164178, \"nowomen-disagree\": 0.029850746268656716, \"men-disagree\": 0.029850746268656716, \"dubious\": 0.07462686567164178, \"men\": 0.1044776119402985, \"dubious-disagree\": 0.029850746268656716, \"notalk\": 0.26865671641791045, \"notalk-disagree\": 0.04477611940298507, \"ok\": 0.2835820895522388, \"ok-disagree\": 0.05970149253731343}], [1990.0, {\"total_count\": 90, \"contained_years\": [\"1994\", \"1993\", \"1992\", \"1991\", \"1990\"], \"nowomen\": 0.1, \"nowomen-disagree\": 0.044444444444444446, \"men-disagree\": 0.06666666666666667, \"dubious\": 0.044444444444444446, \"men\": 0.07777777777777778, \"dubious-disagree\": 0.011111111111111112, \"notalk\": 0.23333333333333334, \"notalk-disagree\": 0.05555555555555555, \"ok\": 0.3111111111111111, \"ok-disagree\": 0.05555555555555555}], [1995.0, {\"total_count\": 247, \"contained_years\": [\"1999\", \"1998\", \"1997\", \"1996\", \"1995\"], \"nowomen\": 0.024291497975708502, \"nowomen-disagree\": 0.020242914979757085, \"men-disagree\": 0.02834008097165992, \"dubious\": 0.048582995951417005, \"men\": 0.06882591093117409, \"dubious-disagree\": 0.02834008097165992, \"notalk\": 0.2145748987854251, \"notalk-disagree\": 0.10526315789473684, \"ok\": 0.4251012145748988, \"ok-disagree\": 0.03643724696356275}], [2000.0, {\"total_count\": 352, \"contained_years\": [\"2004\", \"2003\", \"2002\", \"2001\", \"2000\"], \"nowomen\": 0.05397727272727273, \"nowomen-disagree\": 0.028409090909090908, \"men-disagree\": 0.03977272727272727, \"dubious\": 0.036931818181818184, \"men\": 0.0625, \"dubious-disagree\": 0.017045454545454544, \"notalk\": 0.20170454545454544, \"notalk-disagree\": 0.05397727272727273, \"ok\": 0.45454545454545453, \"ok-disagree\": 0.05113636363636364}], [2005.0, {\"total_count\": 488, \"contained_years\": [\"2009\", \"2008\", \"2007\", \"2006\", \"2005\"], \"nowomen\": 0.0471311475409836, \"nowomen-disagree\": 0.02459016393442623, \"men-disagree\": 0.03483606557377049, \"dubious\": 0.0471311475409836, \"men\": 0.06762295081967214, \"dubious-disagree\": 0.030737704918032786, \"notalk\": 0.20081967213114754, \"notalk-disagree\": 0.07377049180327869, \"ok\": 0.4323770491803279, \"ok-disagree\": 0.040983606557377046}], [2010.0, {\"total_count\": 438, \"contained_years\": [\"2013\", \"2012\", \"2011\", \"2010\"], \"nowomen\": 0.0410958904109589, \"nowomen-disagree\": 0.0319634703196347, \"men-disagree\": 0.0410958904109589, \"dubious\": 0.0365296803652968, \"men\": 0.06164383561643835, \"dubious-disagree\": 0.06164383561643835, \"notalk\": 0.182648401826484, \"notalk-disagree\": 0.09360730593607305, \"ok\": 0.3356164383561644, \"ok-disagree\": 0.1141552511415525}]]\n"
     ]
    }
   ],
   "source": []
  },
  {
   "cell_type": "code",
   "execution_count": 20,
   "metadata": {},
   "outputs": [
    {
     "name": "stdout",
     "output_type": "stream",
     "text": [
      "{'notalk', 'nowomen-disagree', 'men', 'notalk-disagree', 'men-disagree', 'ok-disagree', 'dubious', 'ok', 'nowomen', 'dubious-disagree'}\n"
     ]
    }
   ],
   "source": [
    "print(set([x[3] for x in moviereader[1:]]))\n"
   ]
  }
 ],
 "metadata": {
  "kernelspec": {
   "display_name": "Python 3",
   "language": "python",
   "name": "python3"
  },
  "language_info": {
   "codemirror_mode": {
    "name": "ipython",
    "version": 3
   },
   "file_extension": ".py",
   "mimetype": "text/x-python",
   "name": "python",
   "nbconvert_exporter": "python",
   "pygments_lexer": "ipython3",
   "version": "3.6.7"
  }
 },
 "nbformat": 4,
 "nbformat_minor": 2
}
