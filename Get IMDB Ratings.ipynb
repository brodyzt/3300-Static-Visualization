{
 "cells": [
  {
   "cell_type": "code",
   "execution_count": 7,
   "metadata": {},
   "outputs": [],
   "source": [
    "import json\n",
    "import requests\n",
    "import csv"
   ]
  },
  {
   "cell_type": "code",
   "execution_count": 12,
   "metadata": {},
   "outputs": [
    {
     "name": "stdout",
     "output_type": "stream",
     "text": [
      "{'year': 0, 'imdb': 1, 'title': 2, 'test': 3, 'clean_test': 4, 'binary': 5, 'budget': 6, 'domgross': 7, 'intgross': 8, 'code': 9, 'budget_2013$': 10, 'domgross_2013$': 11, 'intgross_2013$': 12, 'period code': 13, 'decade code': 14}\n",
      "['1970', 'tt0065466', 'Beyond the Valley of the Dolls', 'ok', 'ok', 'PASS', '1000000', '9000000', '9000000', '1970PASS', '5997631', '53978683', '53978683', '', '']\n"
     ]
    },
    {
     "ename": "KeyError",
     "evalue": "'imdbRating'",
     "output_type": "error",
     "traceback": [
      "\u001b[0;31m---------------------------------------------------------------------------\u001b[0m",
      "\u001b[0;31mKeyError\u001b[0m                                  Traceback (most recent call last)",
      "\u001b[0;32m<ipython-input-12-841e30cadb06>\u001b[0m in \u001b[0;36m<module>\u001b[0;34m()\u001b[0m\n\u001b[1;32m     18\u001b[0m         \u001b[0mr\u001b[0m \u001b[0;34m=\u001b[0m \u001b[0mrequests\u001b[0m\u001b[0;34m.\u001b[0m\u001b[0mget\u001b[0m\u001b[0;34m(\u001b[0m\u001b[0murl\u001b[0m \u001b[0;34m=\u001b[0m \u001b[0mURL\u001b[0m\u001b[0;34m)\u001b[0m\u001b[0;34m\u001b[0m\u001b[0;34m\u001b[0m\u001b[0m\n\u001b[1;32m     19\u001b[0m         \u001b[0mdata\u001b[0m \u001b[0;34m=\u001b[0m \u001b[0mr\u001b[0m\u001b[0;34m.\u001b[0m\u001b[0mjson\u001b[0m\u001b[0;34m(\u001b[0m\u001b[0;34m)\u001b[0m\u001b[0;34m\u001b[0m\u001b[0;34m\u001b[0m\u001b[0m\n\u001b[0;32m---> 20\u001b[0;31m         \u001b[0mrating\u001b[0m \u001b[0;34m=\u001b[0m \u001b[0mdata\u001b[0m\u001b[0;34m[\u001b[0m\u001b[0;34m\"imdbRating\"\u001b[0m\u001b[0;34m]\u001b[0m\u001b[0;34m\u001b[0m\u001b[0;34m\u001b[0m\u001b[0m\n\u001b[0m\u001b[1;32m     21\u001b[0m         \u001b[0mid_to_rating_dict\u001b[0m\u001b[0;34m[\u001b[0m\u001b[0mmovie\u001b[0m\u001b[0;34m[\u001b[0m\u001b[0;36m1\u001b[0m\u001b[0;34m]\u001b[0m\u001b[0;34m]\u001b[0m \u001b[0;34m=\u001b[0m \u001b[0mrating\u001b[0m\u001b[0;34m\u001b[0m\u001b[0;34m\u001b[0m\u001b[0m\n\u001b[1;32m     22\u001b[0m \u001b[0;34m\u001b[0m\u001b[0m\n",
      "\u001b[0;31mKeyError\u001b[0m: 'imdbRating'"
     ]
    }
   ],
   "source": [
    "id_to_rating_dict = {}\n",
    "\n",
    "print(id_to_rating_dict)\n",
    "\n",
    "# url = http://www.omdbapi.com/?i=tt3896198&apikey=85910ac3"
   ]
  },
  {
   "cell_type": "code",
   "execution_count": 29,
   "metadata": {},
   "outputs": [
    {
     "name": "stdout",
     "output_type": "stream",
     "text": [
      "{'year': 0, 'imdb': 1, 'title': 2, 'test': 3, 'clean_test': 4, 'binary': 5, 'budget': 6, 'domgross': 7, 'intgross': 8, 'code': 9, 'budget_2013$': 10, 'domgross_2013$': 11, 'intgross_2013$': 12, 'period code': 13, 'decade code': 14}\n",
      "['1970', 'tt0065466', 'Beyond the Valley of the Dolls', 'ok', 'ok', 'PASS', '1000000', '9000000', '9000000', '1970PASS', '5997631', '53978683', '53978683', '', '']\n",
      "Failed to retrieve data: tt420238\n"
     ]
    }
   ],
   "source": [
    "with open('movies.csv', 'r') as csvfile:\n",
    "    moviereader = [x for x in csv.reader(csvfile, delimiter=',')]\n",
    "    \n",
    "    header_dict = dict()\n",
    "    \n",
    "    for i in range(len(moviereader[0])):\n",
    "        header_dict[moviereader[0][i]] = i\n",
    "        \n",
    "    print(header_dict)\n",
    "\n",
    "    \n",
    "    print(moviereader[-1])\n",
    "    \n",
    "    failed_count = 0\n",
    "    \n",
    "    for movie in moviereader[1:]:\n",
    "        if movie[1] not in id_to_rating_dict:\n",
    "            URL = \"http://www.omdbapi.com/?i=\" + movie[1] + \"&apikey=3e183fd4\"\n",
    "            r = requests.get(url = URL)\n",
    "            data = r.json()\n",
    "            if \"imdbRating\" in data:\n",
    "                rating = data[\"imdbRating\"]\n",
    "#                 id_to_rating_dict[movie[1]] = rating\n",
    "                print(\"found: \" + data[\"Title\"])\n",
    "            else: \n",
    "                print(\"Failed to retrieve data: \" + movie[1])\n",
    "                failed_count += 1\n",
    "                if failed_count > 10:\n",
    "                    break\n",
    "        else:\n",
    "#             print(\"already have: \" + movie[1])\n",
    "            pass"
   ]
  },
  {
   "cell_type": "code",
   "execution_count": 49,
   "metadata": {},
   "outputs": [],
   "source": [
    "# print(json.dumps(id_to_rating_dict))\n",
    "\n",
    "new_rows = []\n",
    "\n",
    "\n",
    "with open('movies.csv', 'r') as csvfile:\n",
    "    reader = [x for x in csv.reader(csvfile, delimiter=',')]\n",
    "    new_rows.append(reader[0])\n",
    "    for row in reader[1:]:\n",
    "        new_row = row\n",
    "        new_row.append(id_to_rating_dict[row[1]])\n",
    "        new_rows.append(new_row)   \n",
    "\n",
    "# print(new_rows)\n",
    "\n",
    "with open(\"original_with_ratings.csv\", \"w\") as f:\n",
    "    writer = csv.writer(f)\n",
    "    writer.writerows(new_rows)"
   ]
  }
 ],
 "metadata": {
  "kernelspec": {
   "display_name": "Python 3",
   "language": "python",
   "name": "python3"
  },
  "language_info": {
   "codemirror_mode": {
    "name": "ipython",
    "version": 3
   },
   "file_extension": ".py",
   "mimetype": "text/x-python",
   "name": "python",
   "nbconvert_exporter": "python",
   "pygments_lexer": "ipython3",
   "version": "3.6.7"
  }
 },
 "nbformat": 4,
 "nbformat_minor": 2
}
